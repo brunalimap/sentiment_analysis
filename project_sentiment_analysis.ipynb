{
 "cells": [
  {
   "cell_type": "markdown",
   "metadata": {
    "heading_collapsed": true
   },
   "source": [
    "# Analysis of sentiments\n",
    "***"
   ]
  },
  {
   "cell_type": "markdown",
   "metadata": {
    "heading_collapsed": true
   },
   "source": [
    "# 0.0 Context\n"
   ]
  },
  {
   "cell_type": "markdown",
   "metadata": {
    "ExecuteTime": {
     "end_time": "2020-12-13T23:40:17.914652Z",
     "start_time": "2020-12-13T23:40:17.909342Z"
    },
    "heading_collapsed": true,
    "hidden": true
   },
   "source": [
    "## 0.1 About the Dataset"
   ]
  },
  {
   "cell_type": "markdown",
   "metadata": {
    "hidden": true
   },
   "source": [
    "This dataset was taken from the social network Twitter and is divided into three classes (positive, negative and neutral). These dataset have a popular language with slang and word abbreviations. It is necessary to perform some manipulations on the data to obtain a better performance of the model used.\n",
    "\n",
    "Sentiments labels were transformed as follow:\n",
    "- Negative label: 0\n",
    "- Positive label: 1\n",
    "- Neutral label: 2"
   ]
  },
  {
   "cell_type": "markdown",
   "metadata": {
    "heading_collapsed": true,
    "hidden": true
   },
   "source": [
    "## 0.2 Columns Description"
   ]
  },
  {
   "cell_type": "markdown",
   "metadata": {
    "hidden": true
   },
   "source": [
    "- <b>id:</b> String identifier directly from Twitter;\n",
    "- <b>tweet_text:</b> Full text from the tweet\n",
    "- <b>tweet_date:</b> Tweet creation date\n",
    "- <b>sentiment:</b> Sentiment label (classifier)\n",
    "- <b>query_used:</b> Query used to collect the tweet"
   ]
  },
  {
   "cell_type": "markdown",
   "metadata": {
    "heading_collapsed": true,
    "id": "4waDPLKUqMCY"
   },
   "source": [
    "# 1.0 Imports"
   ]
  },
  {
   "cell_type": "code",
   "execution_count": 1,
   "metadata": {
    "ExecuteTime": {
     "end_time": "2020-12-14T02:36:45.144954Z",
     "start_time": "2020-12-14T02:36:43.585253Z"
    },
    "hidden": true,
    "id": "tJd_jvYean_Q"
   },
   "outputs": [],
   "source": [
    "import re\n",
    "import nltk\n",
    "import warnings\n",
    "import numpy as np\n",
    "import pandas as pd\n",
    "import seaborn as sns\n",
    "import matplotlib.pyplot as plt\n",
    "\n",
    "from IPython.core.display  import HTML\n",
    "from IPython.display       import Image\n",
    "\n",
    "from sklearn import metrics\n",
    "from nltk.tokenize import wordpunct_tokenize\n",
    "from sklearn.naive_bayes import MultinomialNB\n",
    "from sklearn.model_selection import cross_val_predict\n",
    "from sklearn.feature_extraction.text import CountVectorizer\n",
    "from sklearn.metrics import accuracy_score, classification_report,confusion_matrix, precision_recall_fscore_support"
   ]
  },
  {
   "cell_type": "markdown",
   "metadata": {
    "hidden": true,
    "id": "4OHWWjBUTyPP"
   },
   "source": [
    "## 1.1 Helper Functions"
   ]
  },
  {
   "cell_type": "markdown",
   "metadata": {
    "hidden": true
   },
   "source": [
    "In this section, we define some functions that will help us along the project."
   ]
  },
  {
   "cell_type": "code",
   "execution_count": 2,
   "metadata": {
    "ExecuteTime": {
     "end_time": "2020-12-14T02:36:45.190470Z",
     "start_time": "2020-12-14T02:36:45.149949Z"
    },
    "colab": {
     "base_uri": "https://localhost:8080/",
     "height": 34
    },
    "executionInfo": {
     "elapsed": 725,
     "status": "ok",
     "timestamp": 1607550396791,
     "user": {
      "displayName": "Bruna Lima",
      "photoUrl": "https://lh3.googleusercontent.com/a-/AOh14Gg8K5cJFtNe-gY4q7n9TOlMYJT7Uh9KdeFxLviiYQ=s64",
      "userId": "17818359507482234909"
     },
     "user_tz": 180
    },
    "hidden": true,
    "id": "uZEwOgQkTwyh",
    "outputId": "2bceccaf-0083-42c4-e5e9-6297ad93ac39"
   },
   "outputs": [
    {
     "name": "stdout",
     "output_type": "stream",
     "text": [
      "Populating the interactive namespace from numpy and matplotlib\n"
     ]
    },
    {
     "data": {
      "text/html": [
       "<style>.container {width:100% !important; }</style>"
      ],
      "text/plain": [
       "<IPython.core.display.HTML object>"
      ]
     },
     "metadata": {},
     "output_type": "display_data"
    }
   ],
   "source": [
    "# Hides python warnings\n",
    "warnings.filterwarnings ('ignore')\n",
    "\n",
    "def jupyter_settings():\n",
    "    \n",
    "    %matplotlib inline \n",
    "    %pylab inline\n",
    "    \n",
    "    plt.style.use('bmh')\n",
    "    plt.rcParams['figure.figsize']=[25,12]\n",
    "    plt.rcParams['font.size']=20\n",
    "    \n",
    "    display( HTML('<style>.container {width:100% !important; }</style>'))\n",
    "    pd.options.display.max_columns = None\n",
    "    pd.options.display.max_rows = None\n",
    "    pd.set_option('display.expand_frame_repr',False )\n",
    "    \n",
    "    sns.set()\n",
    "    \n",
    "jupyter_settings()\n",
    "\n"
   ]
  },
  {
   "cell_type": "markdown",
   "metadata": {
    "hidden": true,
    "id": "02AfoVhAdmVQ"
   },
   "source": [
    "## 1.2 Loading Data"
   ]
  },
  {
   "cell_type": "code",
   "execution_count": 3,
   "metadata": {
    "ExecuteTime": {
     "end_time": "2020-12-14T02:36:45.701219Z",
     "start_time": "2020-12-14T02:36:45.194610Z"
    },
    "hidden": true,
    "id": "KzgkgJYXdV-H"
   },
   "outputs": [],
   "source": [
    "df_train_raw = pd.read_csv('dataset/Train3Classes.csv', encoding='utf-8', delimiter=';')\n",
    "df_test_raw =pd.read_csv('dataset/Test3classes.csv', encoding='utf-8', delimiter=';')"
   ]
  },
  {
   "cell_type": "code",
   "execution_count": 4,
   "metadata": {
    "ExecuteTime": {
     "end_time": "2020-12-14T02:36:45.728611Z",
     "start_time": "2020-12-14T02:36:45.704238Z"
    },
    "hidden": true
   },
   "outputs": [
    {
     "data": {
      "text/html": [
       "<div>\n",
       "<style scoped>\n",
       "    .dataframe tbody tr th:only-of-type {\n",
       "        vertical-align: middle;\n",
       "    }\n",
       "\n",
       "    .dataframe tbody tr th {\n",
       "        vertical-align: top;\n",
       "    }\n",
       "\n",
       "    .dataframe thead th {\n",
       "        text-align: right;\n",
       "    }\n",
       "</style>\n",
       "<table border=\"1\" class=\"dataframe\">\n",
       "  <thead>\n",
       "    <tr style=\"text-align: right;\">\n",
       "      <th></th>\n",
       "      <th>id</th>\n",
       "      <th>tweet_text</th>\n",
       "      <th>tweet_date</th>\n",
       "      <th>sentiment</th>\n",
       "      <th>query_used</th>\n",
       "    </tr>\n",
       "  </thead>\n",
       "  <tbody>\n",
       "    <tr>\n",
       "      <th>82378</th>\n",
       "      <td>1040477502135775232</td>\n",
       "      <td>Para conter rejeição, equipe de Bolsonaro faz ...</td>\n",
       "      <td>Fri Sep 14 05:49:02 +0000 2018</td>\n",
       "      <td>2</td>\n",
       "      <td>folha</td>\n",
       "    </tr>\n",
       "    <tr>\n",
       "      <th>79923</th>\n",
       "      <td>1042294477698883584</td>\n",
       "      <td>Ao gosto de Maduro https://t.co/mnVj8zdHN0</td>\n",
       "      <td>Wed Sep 19 06:09:03 +0000 2018</td>\n",
       "      <td>2</td>\n",
       "      <td>folha</td>\n",
       "    </tr>\n",
       "    <tr>\n",
       "      <th>92864</th>\n",
       "      <td>1039222323486683142</td>\n",
       "      <td>#emprego #vagas #oportunidade em Americana, Sa...</td>\n",
       "      <td>Mon Sep 10 18:41:24 +0000 2018</td>\n",
       "      <td>2</td>\n",
       "      <td>#oportunidade</td>\n",
       "    </tr>\n",
       "    <tr>\n",
       "      <th>40317</th>\n",
       "      <td>1049222648255930368</td>\n",
       "      <td>@vittoriajd ai gente gosto tNto da marina :( e...</td>\n",
       "      <td>Mon Oct 08 08:59:07 +0000 2018</td>\n",
       "      <td>0</td>\n",
       "      <td>:(</td>\n",
       "    </tr>\n",
       "  </tbody>\n",
       "</table>\n",
       "</div>"
      ],
      "text/plain": [
       "                        id                                         tweet_text                      tweet_date  sentiment     query_used\n",
       "82378  1040477502135775232  Para conter rejeição, equipe de Bolsonaro faz ...  Fri Sep 14 05:49:02 +0000 2018          2          folha\n",
       "79923  1042294477698883584         Ao gosto de Maduro https://t.co/mnVj8zdHN0  Wed Sep 19 06:09:03 +0000 2018          2          folha\n",
       "92864  1039222323486683142  #emprego #vagas #oportunidade em Americana, Sa...  Mon Sep 10 18:41:24 +0000 2018          2  #oportunidade\n",
       "40317  1049222648255930368  @vittoriajd ai gente gosto tNto da marina :( e...  Mon Oct 08 08:59:07 +0000 2018          0             :("
      ]
     },
     "execution_count": 4,
     "metadata": {},
     "output_type": "execute_result"
    }
   ],
   "source": [
    "df_train_raw.sample(4)"
   ]
  },
  {
   "cell_type": "code",
   "execution_count": 5,
   "metadata": {
    "ExecuteTime": {
     "end_time": "2020-12-14T02:36:45.757466Z",
     "start_time": "2020-12-14T02:36:45.732779Z"
    },
    "hidden": true
   },
   "outputs": [
    {
     "data": {
      "text/html": [
       "<div>\n",
       "<style scoped>\n",
       "    .dataframe tbody tr th:only-of-type {\n",
       "        vertical-align: middle;\n",
       "    }\n",
       "\n",
       "    .dataframe tbody tr th {\n",
       "        vertical-align: top;\n",
       "    }\n",
       "\n",
       "    .dataframe thead th {\n",
       "        text-align: right;\n",
       "    }\n",
       "</style>\n",
       "<table border=\"1\" class=\"dataframe\">\n",
       "  <thead>\n",
       "    <tr style=\"text-align: right;\">\n",
       "      <th></th>\n",
       "      <th>id</th>\n",
       "      <th>tweet_text</th>\n",
       "      <th>tweet_date</th>\n",
       "      <th>sentiment</th>\n",
       "      <th>query_used</th>\n",
       "    </tr>\n",
       "  </thead>\n",
       "  <tbody>\n",
       "    <tr>\n",
       "      <th>504</th>\n",
       "      <td>1029547030962753536</td>\n",
       "      <td>@GabrielNemer_T Po, eu sou da sociologia e nao...</td>\n",
       "      <td>Wed Aug 15 01:55:14 +0000 2018</td>\n",
       "      <td>1</td>\n",
       "      <td>:)</td>\n",
       "    </tr>\n",
       "    <tr>\n",
       "      <th>1610</th>\n",
       "      <td>1029574058717970432</td>\n",
       "      <td>Que bom que foi produtivo, você feliz me deixa...</td>\n",
       "      <td>Wed Aug 15 03:42:38 +0000 2018</td>\n",
       "      <td>1</td>\n",
       "      <td>:)</td>\n",
       "    </tr>\n",
       "    <tr>\n",
       "      <th>2342</th>\n",
       "      <td>1030503480098729984</td>\n",
       "      <td>nem da gosto de ser sexta :( /2</td>\n",
       "      <td>Fri Aug 17 17:15:50 +0000 2018</td>\n",
       "      <td>0</td>\n",
       "      <td>:(</td>\n",
       "    </tr>\n",
       "    <tr>\n",
       "      <th>1088</th>\n",
       "      <td>1029559608426356737</td>\n",
       "      <td>@moonspellritess de nada :D</td>\n",
       "      <td>Wed Aug 15 02:45:13 +0000 2018</td>\n",
       "      <td>1</td>\n",
       "      <td>:)</td>\n",
       "    </tr>\n",
       "  </tbody>\n",
       "</table>\n",
       "</div>"
      ],
      "text/plain": [
       "                       id                                         tweet_text                      tweet_date  sentiment query_used\n",
       "504   1029547030962753536  @GabrielNemer_T Po, eu sou da sociologia e nao...  Wed Aug 15 01:55:14 +0000 2018          1         :)\n",
       "1610  1029574058717970432  Que bom que foi produtivo, você feliz me deixa...  Wed Aug 15 03:42:38 +0000 2018          1         :)\n",
       "2342  1030503480098729984                    nem da gosto de ser sexta :( /2  Fri Aug 17 17:15:50 +0000 2018          0         :(\n",
       "1088  1029559608426356737                        @moonspellritess de nada :D  Wed Aug 15 02:45:13 +0000 2018          1         :)"
      ]
     },
     "execution_count": 5,
     "metadata": {},
     "output_type": "execute_result"
    }
   ],
   "source": [
    "df_test_raw.sample(4)"
   ]
  },
  {
   "cell_type": "markdown",
   "metadata": {
    "heading_collapsed": true,
    "id": "lbnHmq-JzNFJ"
   },
   "source": [
    "# 2.0 Data Description"
   ]
  },
  {
   "cell_type": "code",
   "execution_count": 6,
   "metadata": {
    "ExecuteTime": {
     "end_time": "2020-12-14T02:36:45.778233Z",
     "start_time": "2020-12-14T02:36:45.761410Z"
    },
    "hidden": true,
    "id": "k8wdp1iOTiKv"
   },
   "outputs": [],
   "source": [
    "# Create dataset copy\n",
    "df = df_train_raw.copy()\n",
    "dft = df_test_raw.copy()"
   ]
  },
  {
   "cell_type": "markdown",
   "metadata": {
    "hidden": true
   },
   "source": [
    "## 2.1 Data Dimension"
   ]
  },
  {
   "cell_type": "code",
   "execution_count": 7,
   "metadata": {
    "ExecuteTime": {
     "end_time": "2020-12-14T02:36:45.802188Z",
     "start_time": "2020-12-14T02:36:45.782167Z"
    },
    "hidden": true
   },
   "outputs": [
    {
     "name": "stdout",
     "output_type": "stream",
     "text": [
      "Dimension Dataset Train\n",
      "Number rows: 100000\n",
      "Number cols: 5\n",
      "\n",
      "Dimension Dataset Test\n",
      "Number rows: 4999\n",
      "Number cols: 5\n"
     ]
    }
   ],
   "source": [
    "print('Dimension Dataset Train')\n",
    "print('Number rows: {}'.format(df.shape[0]))\n",
    "print('Number cols: {}'.format(df.shape[1]))\n",
    "\n",
    "print('\\nDimension Dataset Test')\n",
    "print('Number rows: {}'.format(dft.shape[0]))\n",
    "print('Number cols: {}'.format(dft.shape[1]))\n",
    "\n"
   ]
  },
  {
   "cell_type": "markdown",
   "metadata": {
    "hidden": true
   },
   "source": [
    "## 2.2 Change classifiers"
   ]
  },
  {
   "cell_type": "code",
   "execution_count": 8,
   "metadata": {
    "ExecuteTime": {
     "end_time": "2020-12-14T02:36:45.831445Z",
     "start_time": "2020-12-14T02:36:45.811579Z"
    },
    "hidden": true
   },
   "outputs": [],
   "source": [
    "#Transformation was according to the context \n",
    "df['sentiment']= df['sentiment'].map({0:'negative',1:'positive',2:'neutral'})\n",
    "dft['sentiment']= dft['sentiment'].map({0:'negative',1:'positive',2:'neutral'})"
   ]
  },
  {
   "cell_type": "markdown",
   "metadata": {
    "hidden": true,
    "id": "9MzuCRrvVG2i"
   },
   "source": [
    "## 2.3 Variable Analysis"
   ]
  },
  {
   "cell_type": "code",
   "execution_count": 9,
   "metadata": {
    "ExecuteTime": {
     "end_time": "2020-12-14T02:36:45.915741Z",
     "start_time": "2020-12-14T02:36:45.834134Z"
    },
    "colab": {
     "base_uri": "https://localhost:8080/"
    },
    "executionInfo": {
     "elapsed": 692,
     "status": "ok",
     "timestamp": 1607550402419,
     "user": {
      "displayName": "Bruna Lima",
      "photoUrl": "https://lh3.googleusercontent.com/a-/AOh14Gg8K5cJFtNe-gY4q7n9TOlMYJT7Uh9KdeFxLviiYQ=s64",
      "userId": "17818359507482234909"
     },
     "user_tz": 180
    },
    "hidden": true,
    "id": "N23Za5Wcer2b",
    "outputId": "a3dc205d-6d11-4257-c5f6-7f188d34ac0c"
   },
   "outputs": [
    {
     "data": {
      "text/plain": [
       "id            100000\n",
       "tweet_text    100000\n",
       "tweet_date    100000\n",
       "sentiment     100000\n",
       "query_used    100000\n",
       "dtype: int64"
      ]
     },
     "execution_count": 9,
     "metadata": {},
     "output_type": "execute_result"
    }
   ],
   "source": [
    "df.count()"
   ]
  },
  {
   "cell_type": "code",
   "execution_count": 10,
   "metadata": {
    "ExecuteTime": {
     "end_time": "2020-12-14T02:36:45.936910Z",
     "start_time": "2020-12-14T02:36:45.919328Z"
    },
    "hidden": true
   },
   "outputs": [
    {
     "data": {
      "text/plain": [
       "id            4999\n",
       "tweet_text    4999\n",
       "tweet_date    4999\n",
       "sentiment     4999\n",
       "query_used    4999\n",
       "dtype: int64"
      ]
     },
     "execution_count": 10,
     "metadata": {},
     "output_type": "execute_result"
    }
   ],
   "source": [
    "dft.count()"
   ]
  },
  {
   "cell_type": "markdown",
   "metadata": {
    "hidden": true
   },
   "source": [
    "### 2.3.1 Analysis Variable \"sentiment\""
   ]
  },
  {
   "cell_type": "code",
   "execution_count": 11,
   "metadata": {
    "ExecuteTime": {
     "end_time": "2020-12-14T02:36:45.978222Z",
     "start_time": "2020-12-14T02:36:45.942602Z"
    },
    "colab": {
     "base_uri": "https://localhost:8080/"
    },
    "executionInfo": {
     "elapsed": 797,
     "status": "ok",
     "timestamp": 1607550406829,
     "user": {
      "displayName": "Bruna Lima",
      "photoUrl": "https://lh3.googleusercontent.com/a-/AOh14Gg8K5cJFtNe-gY4q7n9TOlMYJT7Uh9KdeFxLviiYQ=s64",
      "userId": "17818359507482234909"
     },
     "user_tz": 180
    },
    "hidden": true,
    "id": "p7NvI-wxdi8O",
    "outputId": "ef67713e-4dca-4b44-cb2b-946644a5e36a"
   },
   "outputs": [],
   "source": [
    "train = df.sentiment.value_counts()\n",
    "test = dft.sentiment.value_counts()"
   ]
  },
  {
   "cell_type": "code",
   "execution_count": 12,
   "metadata": {
    "ExecuteTime": {
     "end_time": "2020-12-14T02:36:46.544525Z",
     "start_time": "2020-12-14T02:36:45.980952Z"
    },
    "hidden": true
   },
   "outputs": [
    {
     "data": {
      "image/png": "[encoded data removed]",
      "text/plain": [
       "<Figure size 1800x864 with 2 Axes>"
      ]
     },
     "metadata": {},
     "output_type": "display_data"
    }
   ],
   "source": [
    "plt.subplot(1,2,1)\n",
    "train.plot(kind='bar');\n",
    "plt.title('Number for each sentiment - Dataset Train');\n",
    "plt.xlabel('Sentiment')\n",
    "plt.ylabel('Count');\n",
    "\n",
    "plt.subplot(1,2,2)\n",
    "test.plot(kind='bar');\n",
    "plt.title('Number for each sentiment - Dataset Test');\n",
    "plt.xlabel('Sentiment')\n",
    "plt.ylabel('Count');"
   ]
  },
  {
   "cell_type": "markdown",
   "metadata": {
    "hidden": true
   },
   "source": [
    "### 2.3.2 Analysis Variable \"query used\""
   ]
  },
  {
   "cell_type": "code",
   "execution_count": 13,
   "metadata": {
    "ExecuteTime": {
     "end_time": "2020-12-14T02:36:46.579316Z",
     "start_time": "2020-12-14T02:36:46.549297Z"
    },
    "hidden": true
   },
   "outputs": [],
   "source": [
    "train1 = df.query_used.value_counts()\n",
    "test1 = dft.query_used.value_counts()"
   ]
  },
  {
   "cell_type": "code",
   "execution_count": 14,
   "metadata": {
    "ExecuteTime": {
     "end_time": "2020-12-14T02:36:47.254056Z",
     "start_time": "2020-12-14T02:36:46.582025Z"
    },
    "colab": {
     "base_uri": "https://localhost:8080/",
     "height": 522
    },
    "executionInfo": {
     "elapsed": 803,
     "status": "ok",
     "timestamp": 1607550411175,
     "user": {
      "displayName": "Bruna Lima",
      "photoUrl": "https://lh3.googleusercontent.com/a-/AOh14Gg8K5cJFtNe-gY4q7n9TOlMYJT7Uh9KdeFxLviiYQ=s64",
      "userId": "17818359507482234909"
     },
     "user_tz": 180
    },
    "hidden": true,
    "id": "p72HGWzmek--",
    "outputId": "51d55467-dac4-4887-d5ca-4e634d174d06"
   },
   "outputs": [
    {
     "data": {
      "image/png": "[encoded data removed]",
      "text/plain": [
       "<Figure size 1800x864 with 2 Axes>"
      ]
     },
     "metadata": {},
     "output_type": "display_data"
    }
   ],
   "source": [
    "plt.subplot(1,2,1)\n",
    "train1.plot(kind='bar');\n",
    "plt.title('Number for each subject - Dataset Train');\n",
    "plt.xlabel('Subject')\n",
    "plt.ylabel('Count');\n",
    "\n",
    "plt.subplot(1,2,2)\n",
    "test1.plot(kind='bar');\n",
    "plt.title('Number for each subject - Dataset Test');\n",
    "plt.xlabel('Subject')\n",
    "plt.ylabel('Count');"
   ]
  },
  {
   "cell_type": "markdown",
   "metadata": {
    "hidden": true
   },
   "source": [
    "Observation:\n",
    "\n",
    "- The two data sets contain some characters that may influence the model not performing well, requiring some data cleaning processes\n",
    " "
   ]
  },
  {
   "cell_type": "markdown",
   "metadata": {
    "hidden": true,
    "id": "htf0qmh2VlBa"
   },
   "source": [
    "## 2.4 Class Separation"
   ]
  },
  {
   "cell_type": "code",
   "execution_count": 15,
   "metadata": {
    "ExecuteTime": {
     "end_time": "2020-12-14T02:36:47.262479Z",
     "start_time": "2020-12-14T02:36:47.257162Z"
    },
    "hidden": true,
    "id": "AFcXSP31dzMO"
   },
   "outputs": [],
   "source": [
    "# Dataset train\n",
    "X_train = df['tweet_text']\n",
    "y_train = df['sentiment']\n",
    "\n",
    "# Dataset test\n",
    "X_test = dft['tweet_text']"
   ]
  },
  {
   "cell_type": "code",
   "execution_count": 16,
   "metadata": {
    "ExecuteTime": {
     "end_time": "2020-12-14T02:36:47.280822Z",
     "start_time": "2020-12-14T02:36:47.265468Z"
    },
    "hidden": true
   },
   "outputs": [
    {
     "name": "stdout",
     "output_type": "stream",
     "text": [
      "positive -> @Laranjito76 A pessoa certa para isso seria o vale e azevedo :)\n",
      "positive -> @behin_d_curtain Para mim, é precisamente o contrário :) Vem a chuva e vem a boa disposição :)\n",
      "positive -> Vou fazer um video hoje... estou pensando em falar um pouco sobre o novo meta do CSGO e sobre a pagina https://t.co/5RjhKnj0oh Alguem tem uma sugestao? Queria falar sobre algo do cenario nacional :D\n",
      "positive -> aaaaaaaa amei tanto essas polaroids, nem sei expressar o quanto eu to apaixonada de vdd✨💖🎈🎉🎊 espero que outras pessoas consigam ganhar também :) https://t.co/pbIp7tRcSE\n",
      "positive -> Valoriza o coração do menininho que vc tem. Ele é diferente. O faça sorrir e ter certeza disso ❤️ — Eu valorizo todo mundo na minha vida, não vai ser diferente com ele :)) https://t.co/5c7wlXQyz9\n"
     ]
    }
   ],
   "source": [
    "# Check dataset\n",
    "for i in range(0,5):\n",
    "    print(y_train[i], '->', X_train[i])"
   ]
  },
  {
   "cell_type": "code",
   "execution_count": 17,
   "metadata": {
    "ExecuteTime": {
     "end_time": "2020-12-14T02:36:47.294545Z",
     "start_time": "2020-12-14T02:36:47.284036Z"
    },
    "hidden": true
   },
   "outputs": [
    {
     "name": "stdout",
     "output_type": "stream",
     "text": [
      "@Gazo1a Nossa! Muito obrigada :)\n",
      "@BerzGamer vai pa puta que te pariu :)\n",
      "QUER MAIS DESCONTOS? (14/08) ⭐⭐⭐⭐⭐ 🌐 Confira no link ➔ https://t.co/jhh0Ttlpq3 | » Compartilhe! « Não encontrou a oferta ou cupom que procurava? Não se preocupe ;) criamos uma pagina com mais ofertas e cupons atualizada diariamente :) https://t.co/IgeeD0WmPf\n",
      "EU VOU PEGAR VCS, ME AJUDEM GALERA, PELO AMOR DE BUTERA. :) #MMVAs #iHeartRadioMMVAs #FFSingleNoTears https://t.co/ghZMLqRFiV\n",
      "Estávamos em casa do Zé e eu estava a morrer de sono, chego a casa e fico sem sono :))))\n"
     ]
    }
   ],
   "source": [
    "# Check dataset\n",
    "for i in range(0,5):\n",
    "    print(X_test[i])"
   ]
  },
  {
   "cell_type": "markdown",
   "metadata": {
    "heading_collapsed": true,
    "id": "h79sU_gRb-th"
   },
   "source": [
    "# 3.0 Data Cleaning"
   ]
  },
  {
   "cell_type": "markdown",
   "metadata": {
    "heading_collapsed": true,
    "hidden": true
   },
   "source": [
    "## 3.1 Remove Urls"
   ]
  },
  {
   "cell_type": "code",
   "execution_count": 18,
   "metadata": {
    "ExecuteTime": {
     "end_time": "2020-12-14T02:36:47.307752Z",
     "start_time": "2020-12-14T02:36:47.297428Z"
    },
    "hidden": true
   },
   "outputs": [],
   "source": [
    "def RemoveUrl(df):\n",
    "    ls = []\n",
    "    words = ''\n",
    "    remove1 = re.compile('http[s]?://(?:[a-zA-Z]|[0-9]|[$-_@.&+]|[!*\\(\\),]|(?:%[0-9a-fA-F][0-9a-fA-F]))+')\n",
    "    remove2 = re.compile('www?.(?:[a-zA-Z]|[0-9]|[$-_@.&+]|[!*\\(\\),]|(?:%[0-9a-fA-F][0-9a-fA-F]))+')\n",
    "    \n",
    "    for line in df:\n",
    "        urls = remove1.findall(line)\n",
    "\n",
    "        for u in urls:\n",
    "            line = line.replace(u, ' ')\n",
    "\n",
    "        urls = remove2.findall(line)\n",
    "\n",
    "        for u in urls:\n",
    "            line = line.replace(u, ' ')\n",
    "            \n",
    "        ls.append(line)\n",
    "    return ls"
   ]
  },
  {
   "cell_type": "code",
   "execution_count": 19,
   "metadata": {
    "ExecuteTime": {
     "end_time": "2020-12-14T02:36:47.571118Z",
     "start_time": "2020-12-14T02:36:47.310814Z"
    },
    "hidden": true
   },
   "outputs": [],
   "source": [
    "X_train_url = RemoveUrl(X_train)\n",
    "X_test_url = RemoveUrl(X_test)"
   ]
  },
  {
   "cell_type": "markdown",
   "metadata": {
    "heading_collapsed": true,
    "hidden": true
   },
   "source": [
    "## 3.2 Remove Regex Pattern"
   ]
  },
  {
   "cell_type": "code",
   "execution_count": 20,
   "metadata": {
    "ExecuteTime": {
     "end_time": "2020-12-14T02:36:47.583462Z",
     "start_time": "2020-12-14T02:36:47.574955Z"
    },
    "hidden": true
   },
   "outputs": [],
   "source": [
    "def RemoveRegex(data, regex_pattern):\n",
    "    ls = []\n",
    "    words = ''\n",
    "    \n",
    "    for line in data:\n",
    "        matches = re.finditer(regex_pattern, line)\n",
    "        \n",
    "        for m in matches: \n",
    "            line = re.sub(m.group().strip(), '', line)\n",
    "\n",
    "        ls.append(line)\n",
    "\n",
    "    return ls"
   ]
  },
  {
   "cell_type": "code",
   "execution_count": 21,
   "metadata": {
    "ExecuteTime": {
     "end_time": "2020-12-14T02:36:53.054998Z",
     "start_time": "2020-12-14T02:36:47.587571Z"
    },
    "hidden": true
   },
   "outputs": [],
   "source": [
    "# Remove # of the text\n",
    "regex_pattern ='#[\\w]*'\n",
    "\n",
    "X_train_re = RemoveRegex(X_train_url, regex_pattern)\n",
    "X_test_re = RemoveRegex(X_test_url, regex_pattern)\n",
    "\n",
    "#Remove @ of the text\n",
    "regex_pattern1 ='@[\\w]*'\n",
    "\n",
    "X_train_reg = RemoveRegex(X_train_re, regex_pattern1)\n",
    "X_test_reg = RemoveRegex(X_test_re, regex_pattern1)"
   ]
  },
  {
   "cell_type": "markdown",
   "metadata": {
    "heading_collapsed": true,
    "hidden": true
   },
   "source": [
    "## 3.3 Tokenização"
   ]
  },
  {
   "cell_type": "code",
   "execution_count": 22,
   "metadata": {
    "ExecuteTime": {
     "end_time": "2020-12-14T02:36:53.103160Z",
     "start_time": "2020-12-14T02:36:53.066299Z"
    },
    "hidden": true
   },
   "outputs": [],
   "source": [
    "def TokenizeText(df):\n",
    "    ls = []\n",
    "\n",
    "    for line in df:\n",
    "        tokens = wordpunct_tokenize(line)\n",
    "        ls.append(tokens)\n",
    "\n",
    "    return ls"
   ]
  },
  {
   "cell_type": "code",
   "execution_count": 23,
   "metadata": {
    "ExecuteTime": {
     "end_time": "2020-12-14T02:36:54.180798Z",
     "start_time": "2020-12-14T02:36:53.113145Z"
    },
    "hidden": true
   },
   "outputs": [],
   "source": [
    "X_train_tokens = TokenizeText(X_train_reg)\n",
    "X_test_tokens = TokenizeText(X_test_reg)"
   ]
  },
  {
   "cell_type": "markdown",
   "metadata": {
    "hidden": true
   },
   "source": [
    "## 3.4 Standardization"
   ]
  },
  {
   "cell_type": "code",
   "execution_count": 24,
   "metadata": {
    "ExecuteTime": {
     "end_time": "2020-12-14T02:36:54.194644Z",
     "start_time": "2020-12-14T02:36:54.186427Z"
    },
    "hidden": true
   },
   "outputs": [],
   "source": [
    "def standardization(tokens, std_list):\n",
    "    ls = []\n",
    "\n",
    "    for tk_line in tokens:\n",
    "        new_tokens = []\n",
    "        \n",
    "        for word in tk_line:\n",
    "            if word.lower() in std_list:\n",
    "                word = std_list[word.lower()]\n",
    "                \n",
    "            new_tokens.append(word) \n",
    "            \n",
    "        ls.append(new_tokens)\n",
    "\n",
    "    return ls"
   ]
  },
  {
   "cell_type": "code",
   "execution_count": 25,
   "metadata": {
    "ExecuteTime": {
     "end_time": "2020-12-14T02:36:54.217350Z",
     "start_time": "2020-12-14T02:36:54.198746Z"
    },
    "hidden": true
   },
   "outputs": [],
   "source": [
    "std_list = {'eh': 'é', 'vc': 'você', \n",
    "            'vcs': 'vocês','tb': 'também', \n",
    "            'tbm': 'também', 'obg': 'obrigado', \n",
    "            'gnt': 'gente', 'q': 'que', \n",
    "            'n': 'não', 'cmg': 'comigo', \n",
    "            'p': 'para', 'ta': 'está', \n",
    "            'to': 'estou', 'vdd': 'verdade','alg':'alguém', 'mt':'muito'}\n"
   ]
  },
  {
   "cell_type": "code",
   "execution_count": 26,
   "metadata": {
    "ExecuteTime": {
     "end_time": "2020-12-14T02:36:54.974526Z",
     "start_time": "2020-12-14T02:36:54.224271Z"
    },
    "hidden": true
   },
   "outputs": [],
   "source": [
    "X_train_std = standardization(X_train_tokens, std_list)\n",
    "X_test_std = standardization(X_test_tokens, std_list)"
   ]
  },
  {
   "cell_type": "markdown",
   "metadata": {
    "hidden": true,
    "id": "3BIi-UHguRyc"
   },
   "source": [
    "## 3.5 Stopwords"
   ]
  },
  {
   "cell_type": "code",
   "execution_count": 27,
   "metadata": {
    "ExecuteTime": {
     "end_time": "2020-12-14T02:36:54.984277Z",
     "start_time": "2020-12-14T02:36:54.977083Z"
    },
    "hidden": true
   },
   "outputs": [],
   "source": [
    "list_stp = nltk.corpus.stopwords.words('portuguese')"
   ]
  },
  {
   "cell_type": "code",
   "execution_count": 28,
   "metadata": {
    "ExecuteTime": {
     "end_time": "2020-12-14T02:36:55.000486Z",
     "start_time": "2020-12-14T02:36:54.988823Z"
    },
    "hidden": true
   },
   "outputs": [],
   "source": [
    "def RemoveStopwords(tokens, stopword_list):\n",
    "    ls = []\n",
    "\n",
    "    for tk_line in tokens:\n",
    "        new_tokens = []\n",
    "        \n",
    "        for word in tk_line:\n",
    "            if word.lower() not in stopword_list:\n",
    "                new_tokens.append(word) \n",
    "            \n",
    "        ls.append(new_tokens)\n",
    "        \n",
    "    return ls"
   ]
  },
  {
   "cell_type": "code",
   "execution_count": 29,
   "metadata": {
    "ExecuteTime": {
     "end_time": "2020-12-14T02:36:59.649762Z",
     "start_time": "2020-12-14T02:36:55.004721Z"
    },
    "hidden": true
   },
   "outputs": [],
   "source": [
    "X_train_stop = RemoveStopwords(X_train_std,list_stp)\n",
    "X_test_stop = RemoveStopwords(X_test_std,list_stp)"
   ]
  },
  {
   "cell_type": "markdown",
   "metadata": {
    "heading_collapsed": true,
    "hidden": true,
    "id": "F4X_OLiz1E5U"
   },
   "source": [
    "## 3.6 Untokenize text"
   ]
  },
  {
   "cell_type": "code",
   "execution_count": 30,
   "metadata": {
    "ExecuteTime": {
     "end_time": "2020-12-14T02:36:59.662357Z",
     "start_time": "2020-12-14T02:36:59.652361Z"
    },
    "hidden": true
   },
   "outputs": [],
   "source": [
    "def UntokenizeText(tokens):\n",
    "    ls = []\n",
    "\n",
    "    for tk_line in tokens:\n",
    "        new_line = ''\n",
    "        \n",
    "        for word in tk_line:\n",
    "            new_line += word + ' '\n",
    "            \n",
    "        ls.append(new_line)\n",
    "        \n",
    "    return ls"
   ]
  },
  {
   "cell_type": "code",
   "execution_count": 31,
   "metadata": {
    "ExecuteTime": {
     "end_time": "2020-12-14T02:36:59.933697Z",
     "start_time": "2020-12-14T02:36:59.666104Z"
    },
    "hidden": true
   },
   "outputs": [],
   "source": [
    "X_train_clean = UntokenizeText(X_train_stop)\n",
    "X_test_clean = UntokenizeText(X_test_stop)"
   ]
  },
  {
   "cell_type": "markdown",
   "metadata": {
    "hidden": true
   },
   "source": [
    "## 3.7 Check Dataset"
   ]
  },
  {
   "cell_type": "code",
   "execution_count": 32,
   "metadata": {
    "ExecuteTime": {
     "end_time": "2020-12-14T02:36:59.945123Z",
     "start_time": "2020-12-14T02:36:59.936218Z"
    },
    "hidden": true
   },
   "outputs": [
    {
     "name": "stdout",
     "output_type": "stream",
     "text": [
      "positive -> pessoa certa vale azevedo :) \n",
      "positive -> mim , precisamente contrário :) Vem chuva vem boa disposição :) \n",
      "positive -> Vou fazer video hoje ... pensando falar pouco sobre novo meta CSGO sobre pagina Alguem sugestao ? Queria falar sobre algo cenario nacional : D \n",
      "positive -> aaaaaaaa amei tanto polaroids , sei expressar quanto apaixonada verdade ✨💖🎈🎉🎊 espero outras pessoas consigam ganhar :) \n",
      "positive -> Valoriza coração menininho . diferente . faça sorrir ter certeza disso ❤️ — valorizo todo mundo vida , vai ser diferente :)) \n"
     ]
    }
   ],
   "source": [
    "# Check dataset after data cleaning\n",
    "for i in range(0,5):\n",
    "    print(y_train[i], '->', X_train_clean[i])"
   ]
  },
  {
   "cell_type": "code",
   "execution_count": 33,
   "metadata": {
    "ExecuteTime": {
     "end_time": "2020-12-14T02:36:59.967058Z",
     "start_time": "2020-12-14T02:36:59.948523Z"
    },
    "hidden": true
   },
   "outputs": [
    {
     "name": "stdout",
     "output_type": "stream",
     "text": [
      "! obrigada :) \n",
      "vai pa puta pariu :) \n",
      "QUER DESCONTOS ? ( 14 / 08 ) ⭐⭐⭐⭐⭐ 🌐 Confira link ➔ | » Compartilhe ! « encontrou oferta cupom procurava ? preocupe ;) criamos pagina ofertas cupons atualizada diariamente :) \n",
      "VOU PEGAR , AJUDEM GALERA , AMOR BUTERA . :) \n",
      "casa Zé morrer sono , chego casa fico sono :)))) \n"
     ]
    }
   ],
   "source": [
    "# Check dataset after data cleaning\n",
    "for i in range(0,5):\n",
    "    print(X_test_clean[i])"
   ]
  },
  {
   "cell_type": "markdown",
   "metadata": {
    "heading_collapsed": true,
    "id": "HabAxuTGXqNG"
   },
   "source": [
    "# 4.0 Models"
   ]
  },
  {
   "cell_type": "markdown",
   "metadata": {
    "heading_collapsed": true,
    "hidden": true
   },
   "source": [
    "## 4.1 Model Multinomial Naive Bayes"
   ]
  },
  {
   "cell_type": "code",
   "execution_count": 34,
   "metadata": {
    "ExecuteTime": {
     "end_time": "2020-12-14T02:37:05.415111Z",
     "start_time": "2020-12-14T02:36:59.972487Z"
    },
    "hidden": true
   },
   "outputs": [],
   "source": [
    "vectorizer = CountVectorizer(analyzer = \"word\")\n",
    "X_train_vect= vectorizer.fit_transform(X_train_clean)\n",
    "\n",
    "model_mnb = MultinomialNB()\n",
    "model_mnb.fit(X_train_vect, y_train)\n",
    "\n",
    "#Predict\n",
    "predict = cross_val_predict(model_mnb, X_train_vect, y_train, cv = 10)"
   ]
  },
  {
   "cell_type": "markdown",
   "metadata": {
    "heading_collapsed": true,
    "hidden": true,
    "id": "iHBL-rp3zN1B"
   },
   "source": [
    "### 4.1.1 Model Metrics"
   ]
  },
  {
   "cell_type": "code",
   "execution_count": 35,
   "metadata": {
    "ExecuteTime": {
     "end_time": "2020-12-14T02:37:05.535342Z",
     "start_time": "2020-12-14T02:37:05.417576Z"
    },
    "hidden": true
   },
   "outputs": [
    {
     "data": {
      "text/plain": [
       "0.75851"
      ]
     },
     "execution_count": 35,
     "metadata": {},
     "output_type": "execute_result"
    }
   ],
   "source": [
    "metrics.accuracy_score(y_train, predict)"
   ]
  },
  {
   "cell_type": "code",
   "execution_count": 36,
   "metadata": {
    "ExecuteTime": {
     "end_time": "2020-12-14T02:37:07.860955Z",
     "start_time": "2020-12-14T02:37:05.546449Z"
    },
    "code_folding": [],
    "colab": {
     "base_uri": "https://localhost:8080/"
    },
    "executionInfo": {
     "elapsed": 31677,
     "status": "ok",
     "timestamp": 1607550676247,
     "user": {
      "displayName": "Bruna Lima",
      "photoUrl": "https://lh3.googleusercontent.com/a-/AOh14Gg8K5cJFtNe-gY4q7n9TOlMYJT7Uh9KdeFxLviiYQ=s64",
      "userId": "17818359507482234909"
     },
     "user_tz": 180
    },
    "hidden": true,
    "id": "-7pMjV32X2oa",
    "outputId": "e8540947-095a-471e-8865-bbc65091b73e"
   },
   "outputs": [
    {
     "name": "stdout",
     "output_type": "stream",
     "text": [
      "              precision    recall  f1-score   support\n",
      "\n",
      "    negative       0.71      0.77      0.74     33333\n",
      "     neutral       0.89      0.85      0.87     33333\n",
      "    positive       0.68      0.65      0.66     33334\n",
      "\n",
      "    accuracy                           0.76    100000\n",
      "   macro avg       0.76      0.76      0.76    100000\n",
      "weighted avg       0.76      0.76      0.76    100000\n",
      "\n"
     ]
    }
   ],
   "source": [
    "# Model validation measures\n",
    "sentiments = ['Positivo', 'Negativo','Neutro']\n",
    "print(metrics.classification_report(y_train, predict))"
   ]
  },
  {
   "cell_type": "code",
   "execution_count": 37,
   "metadata": {
    "ExecuteTime": {
     "end_time": "2020-12-14T02:37:08.647189Z",
     "start_time": "2020-12-14T02:37:07.864207Z"
    },
    "hidden": true
   },
   "outputs": [
    {
     "data": {
      "image/png": "[encoded data removed]",
      "text/plain": [
       "<Figure size 1800x864 with 2 Axes>"
      ]
     },
     "metadata": {},
     "output_type": "display_data"
    }
   ],
   "source": [
    "ax = sns.heatmap(confusion_matrix(y_train, predict), annot=True, fmt='d',annot_kws={\"fontsize\":14})\n",
    "ax.set(xlabel='Predicted', ylabel='Truth', title='Confusion Matrix');"
   ]
  },
  {
   "cell_type": "markdown",
   "metadata": {
    "ExecuteTime": {
     "end_time": "2020-12-13T20:06:00.055196Z",
     "start_time": "2020-12-13T20:06:00.050372Z"
    },
    "hidden": true
   },
   "source": [
    "- The accuracy of the model is 75%.\n",
    "- With the confusion matrix we can see that the model is performing well for a first cycle. We can see on the main diagonal that the model has a high hit rate.\n"
   ]
  },
  {
   "cell_type": "markdown",
   "metadata": {
    "heading_collapsed": true,
    "id": "YbRzH713YC6D"
   },
   "source": [
    "# 5.0 Hyperparameters Model"
   ]
  },
  {
   "cell_type": "code",
   "execution_count": 38,
   "metadata": {
    "ExecuteTime": {
     "end_time": "2020-12-14T02:37:15.464214Z",
     "start_time": "2020-12-14T02:37:08.650169Z"
    },
    "colab": {
     "base_uri": "https://localhost:8080/"
    },
    "executionInfo": {
     "elapsed": 875,
     "status": "ok",
     "timestamp": 1607448178760,
     "user": {
      "displayName": "Bruna Lima",
      "photoUrl": "https://lh3.googleusercontent.com/a-/AOh14Gg8K5cJFtNe-gY4q7n9TOlMYJT7Uh9KdeFxLviiYQ=s64",
      "userId": "17818359507482234909"
     },
     "user_tz": 180
    },
    "hidden": true,
    "id": "-yrh22FtYGau",
    "outputId": "9c0b3cca-8f8a-4949-d94f-097c127e6b10"
   },
   "outputs": [],
   "source": [
    "vectorizer_cr = CountVectorizer(analyzer = \"word\", ngram_range = (1, 2))\n",
    "X_train_cr = vectorizer.fit_transform(X_train)\n",
    "\n",
    "model_mnb_cr= MultinomialNB()\n",
    "model_mnb_cr.fit(X_train_cr, y_train)\n",
    "\n",
    "# Prediction \n",
    "predict_cr = cross_val_predict(model_mnb_cr, X_train_cr, y_train, cv = 10)"
   ]
  },
  {
   "cell_type": "markdown",
   "metadata": {
    "heading_collapsed": true,
    "hidden": true
   },
   "source": [
    "## 5.1 Model Metrics"
   ]
  },
  {
   "cell_type": "code",
   "execution_count": 39,
   "metadata": {
    "ExecuteTime": {
     "end_time": "2020-12-14T02:37:15.597821Z",
     "start_time": "2020-12-14T02:37:15.468492Z"
    },
    "colab": {
     "base_uri": "https://localhost:8080/"
    },
    "executionInfo": {
     "elapsed": 818,
     "status": "ok",
     "timestamp": 1607448202905,
     "user": {
      "displayName": "Bruna Lima",
      "photoUrl": "https://lh3.googleusercontent.com/a-/AOh14Gg8K5cJFtNe-gY4q7n9TOlMYJT7Uh9KdeFxLviiYQ=s64",
      "userId": "17818359507482234909"
     },
     "user_tz": 180
    },
    "hidden": true,
    "id": "j3M30z86YOdy",
    "outputId": "60b30576-9648-43af-96a8-2e319f158042"
   },
   "outputs": [
    {
     "data": {
      "text/plain": [
       "0.79155"
      ]
     },
     "execution_count": 39,
     "metadata": {},
     "output_type": "execute_result"
    }
   ],
   "source": [
    "# New accuracy \n",
    "metrics.accuracy_score(y_train, predict_cr)"
   ]
  },
  {
   "cell_type": "code",
   "execution_count": 40,
   "metadata": {
    "ExecuteTime": {
     "end_time": "2020-12-14T02:37:17.927505Z",
     "start_time": "2020-12-14T02:37:15.600608Z"
    },
    "hidden": true
   },
   "outputs": [
    {
     "name": "stdout",
     "output_type": "stream",
     "text": [
      "              precision    recall  f1-score   support\n",
      "\n",
      "    negative       0.74      0.79      0.76     33333\n",
      "     neutral       0.90      0.93      0.91     33333\n",
      "    positive       0.73      0.66      0.69     33334\n",
      "\n",
      "    accuracy                           0.79    100000\n",
      "   macro avg       0.79      0.79      0.79    100000\n",
      "weighted avg       0.79      0.79      0.79    100000\n",
      "\n"
     ]
    }
   ],
   "source": [
    "# Model validation measures\n",
    "sentiments = ['Positivo', 'Negativo','Neutro']\n",
    "print(metrics.classification_report(y_train, predict_cr))"
   ]
  },
  {
   "cell_type": "code",
   "execution_count": 41,
   "metadata": {
    "ExecuteTime": {
     "end_time": "2020-12-14T02:37:18.720886Z",
     "start_time": "2020-12-14T02:37:17.929854Z"
    },
    "hidden": true
   },
   "outputs": [
    {
     "data": {
      "image/png": "[encoded data removed]",
      "text/plain": [
       "<Figure size 1800x864 with 2 Axes>"
      ]
     },
     "metadata": {},
     "output_type": "display_data"
    }
   ],
   "source": [
    "ax = sns.heatmap(confusion_matrix(y_train, predict_cr), annot=True, fmt='d',annot_kws={\"fontsize\":14})\n",
    "ax.set(xlabel='Predicted', ylabel='Truth', title='Confusion Matrix');"
   ]
  },
  {
   "cell_type": "markdown",
   "metadata": {
    "hidden": true
   },
   "source": [
    "Observation:\n",
    "\n",
    "- With the modification of some model parameters there was a small improvement in accuracy from 75% to 79%\n",
    "- We can verify with the confusion matrix that the model had more hits."
   ]
  },
  {
   "cell_type": "markdown",
   "metadata": {
    "heading_collapsed": true,
    "id": "vjvhYOicslE4"
   },
   "source": [
    "# 6.0  Test Model"
   ]
  },
  {
   "cell_type": "code",
   "execution_count": 42,
   "metadata": {
    "ExecuteTime": {
     "end_time": "2020-12-14T02:37:18.729445Z",
     "start_time": "2020-12-14T02:37:18.724252Z"
    },
    "hidden": true
   },
   "outputs": [],
   "source": [
    "def TestModel (data):\n",
    "    X_vect = vectorizer.transform(data)\n",
    "    std_predictions = model_mnb_cr.predict(X_vect)\n",
    "    \n",
    "    df = pd.DataFrame(data = {'Tweets': X_test_clean, 'Sentiment': std_predictions })\n",
    "    return df.sample(4) "
   ]
  },
  {
   "cell_type": "code",
   "execution_count": 43,
   "metadata": {
    "ExecuteTime": {
     "end_time": "2020-12-14T02:37:18.890323Z",
     "start_time": "2020-12-14T02:37:18.732625Z"
    },
    "hidden": true,
    "scrolled": true
   },
   "outputs": [
    {
     "data": {
      "text/html": [
       "<div>\n",
       "<style scoped>\n",
       "    .dataframe tbody tr th:only-of-type {\n",
       "        vertical-align: middle;\n",
       "    }\n",
       "\n",
       "    .dataframe tbody tr th {\n",
       "        vertical-align: top;\n",
       "    }\n",
       "\n",
       "    .dataframe thead th {\n",
       "        text-align: right;\n",
       "    }\n",
       "</style>\n",
       "<table border=\"1\" class=\"dataframe\">\n",
       "  <thead>\n",
       "    <tr style=\"text-align: right;\">\n",
       "      <th></th>\n",
       "      <th>Tweets</th>\n",
       "      <th>Sentiment</th>\n",
       "    </tr>\n",
       "  </thead>\n",
       "  <tbody>\n",
       "    <tr>\n",
       "      <th>1405</th>\n",
       "      <td>coloque , vai fique legal . : D</td>\n",
       "      <td>positive</td>\n",
       "    </tr>\n",
       "    <tr>\n",
       "      <th>3114</th>\n",
       "      <td>so queria livríneos Pedro Siqueira chegassem h...</td>\n",
       "      <td>negative</td>\n",
       "    </tr>\n",
       "    <tr>\n",
       "      <th>2658</th>\n",
       "      <td>moro pais :(, boa sorte nene</td>\n",
       "      <td>positive</td>\n",
       "    </tr>\n",
       "    <tr>\n",
       "      <th>867</th>\n",
       "      <td>Fala cansado , sdds Lara :)</td>\n",
       "      <td>negative</td>\n",
       "    </tr>\n",
       "  </tbody>\n",
       "</table>\n",
       "</div>"
      ],
      "text/plain": [
       "                                                 Tweets Sentiment\n",
       "1405                   coloque , vai fique legal . : D   positive\n",
       "3114  so queria livríneos Pedro Siqueira chegassem h...  negative\n",
       "2658                      moro pais :(, boa sorte nene   positive\n",
       "867                        Fala cansado , sdds Lara :)   negative"
      ]
     },
     "execution_count": 43,
     "metadata": {},
     "output_type": "execute_result"
    }
   ],
   "source": [
    "TestModel(X_test_clean)"
   ]
  },
  {
   "cell_type": "markdown",
   "metadata": {
    "heading_collapsed": true
   },
   "source": [
    "# 7.0 Conclusion "
   ]
  },
  {
   "cell_type": "markdown",
   "metadata": {
    "hidden": true
   },
   "source": [
    "- This model  accuracy is 79% after changing some parameters.\n",
    "- A more detailed analysis can be done in the step of cleaning the data, such as interpreting the emoticons, include words in stopwords and checking some slang or abreviations in the messages.\n",
    "- Another alternative is to change some parameters of the model used"
   ]
  },
  {
   "cell_type": "markdown",
   "metadata": {
    "heading_collapsed": true
   },
   "source": [
    "# 8.0 Next steps"
   ]
  },
  {
   "cell_type": "markdown",
   "metadata": {
    "ExecuteTime": {
     "end_time": "2020-12-14T02:16:16.862936Z",
     "start_time": "2020-12-14T02:16:16.856141Z"
    },
    "hidden": true
   },
   "source": [
    "- Implement some cleaning techniques in the data such as removing emotions, adding words in the stopwords step and also in the standardization step.\n",
    "- Change the parameters of the model used. Test with another classification model.\n"
   ]
  }
 ],
 "metadata": {
  "colab": {
   "authorship_tag": "ABX9TyPicsXSYUPywd+G0ChPhqcD",
   "name": "projeto_analise_sentimentos.ipynb",
   "provenance": [],
   "toc_visible": true
  },
  "kernelspec": {
   "display_name": "Python 3",
   "language": "python",
   "name": "python3"
  },
  "language_info": {
   "codemirror_mode": {
    "name": "ipython",
    "version": 3
   },
   "file_extension": ".py",
   "mimetype": "text/x-python",
   "name": "python",
   "nbconvert_exporter": "python",
   "pygments_lexer": "ipython3",
   "version": "3.8.0"
  }
 },
 "nbformat": 4,
 "nbformat_minor": 1
}
